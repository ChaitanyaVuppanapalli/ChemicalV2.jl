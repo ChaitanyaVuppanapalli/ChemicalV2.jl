{
 "cells": [
  {
   "cell_type": "code",
   "execution_count": 1,
   "id": "d08420d9-58b2-4782-9320-b3da3fd0cdcf",
   "metadata": {
    "tags": []
   },
   "outputs": [
    {
     "data": {
      "text/plain": [
       "\"/Users/lesarmstrong/Documents/GitHub/DOLPHYN-dev/Example_Systems/SmallNewEngland/ThreeZones\""
      ]
     },
     "execution_count": 1,
     "metadata": {},
     "output_type": "execute_result"
    }
   ],
   "source": [
    "pwd"
   ]
  },
  {
   "cell_type": "code",
   "execution_count": 2,
   "id": "d14a0539-ba83-4de9-ae19-582b3075268a",
   "metadata": {
    "tags": []
   },
   "outputs": [
    {
     "data": {
      "text/plain": [
       "\"/Users/lesarmstrong/Documents/GitHub/DOLPHYN-dev/Example_Systems/SmallNewEngland/ThreeZones/Settings\""
      ]
     },
     "execution_count": 2,
     "metadata": {},
     "output_type": "execute_result"
    }
   ],
   "source": [
    "settings_path = joinpath(pwd(), \"Settings\")"
   ]
  },
  {
   "cell_type": "code",
   "execution_count": 4,
   "id": "82a392a1-2563-460e-b3c3-a6c003e14fe2",
   "metadata": {
    "tags": []
   },
   "outputs": [
    {
     "name": "stdout",
     "output_type": "stream",
     "text": [
      "Loading packages\n"
     ]
    },
    {
     "name": "stderr",
     "output_type": "stream",
     "text": [
      "\u001b[36m\u001b[1m[ \u001b[22m\u001b[39m\u001b[36m\u001b[1mInfo: \u001b[22m\u001b[39mPrecompiling DOLPHYN [2a466132-4b02-429f-9994-5df6ddd3977f]\n"
     ]
    },
    {
     "name": "stdout",
     "output_type": "stream",
     "text": [
      " --- The following files are not being included from /Users/lesarmstrong/Documents/GitHub/DOLPHYN-dev/src/GenX/src: --- \n",
      "Excluding /Users/lesarmstrong/Documents/GitHub/DOLPHYN-dev/src/GenX/src/GenX.jl\n",
      "Excluding /Users/lesarmstrong/Documents/GitHub/DOLPHYN-dev/src/GenX/src/simple_operation.jl\n",
      "Excluding /Users/lesarmstrong/Documents/GitHub/DOLPHYN-dev/src/GenX/src/time_domain_reduction/time_domain_reduction.jl\n",
      "Excluding /Users/lesarmstrong/Documents/GitHub/DOLPHYN-dev/src/GenX/src/model/solve_model.jl\n",
      "Excluding /Users/lesarmstrong/Documents/GitHub/DOLPHYN-dev/src/GenX/src/model/generate_model.jl\n",
      "Excluding /Users/lesarmstrong/Documents/GitHub/DOLPHYN-dev/src/GenX/src/configure_solver/configure_cbc.jl\n",
      "Excluding /Users/lesarmstrong/Documents/GitHub/DOLPHYN-dev/src/GenX/src/configure_solver/configure_clp.jl\n",
      "Excluding /Users/lesarmstrong/Documents/GitHub/DOLPHYN-dev/src/GenX/src/configure_solver/configure_cplex.jl\n",
      "Excluding /Users/lesarmstrong/Documents/GitHub/DOLPHYN-dev/src/GenX/src/configure_solver/configure_gurobi.jl\n",
      "Excluding /Users/lesarmstrong/Documents/GitHub/DOLPHYN-dev/src/GenX/src/configure_solver/configure_highs.jl\n",
      "Excluding /Users/lesarmstrong/Documents/GitHub/DOLPHYN-dev/src/GenX/src/configure_solver/configure_scip.jl\n",
      "Excluding /Users/lesarmstrong/Documents/GitHub/DOLPHYN-dev/src/GenX/src/configure_solver/configure_solver.jl\n",
      "Excluding /Users/lesarmstrong/Documents/GitHub/DOLPHYN-dev/src/GenX/src/write_outputs/write_outputs.jl\n",
      " --- End of excluded files --- \n",
      " --- The following files are not being included from /Users/lesarmstrong/Documents/GitHub/DOLPHYN-dev/src/time_domain_reduction: --- \n",
      "Excluding /Users/lesarmstrong/Documents/GitHub/DOLPHYN-dev/src/time_domain_reduction/PreCluster.jl\n",
      " --- End of excluded files --- \n"
     ]
    }
   ],
   "source": [
    "environment_path = \"../../../package_activate.jl\"\n",
    "#include(environment_path) #Run this line to activate the Julia virtual environment for GenX; skip it, if the appropriate package versions are installed\n",
    "\n",
    "### Set relevant directory paths\n",
    "src_path = \"../../../src/\"\n",
    "\n",
    "inpath = pwd()\n",
    "\n",
    "### Load GenX\n",
    "println(\"Loading packages\")\n",
    "push!(LOAD_PATH, src_path)\n",
    "\n",
    "using DOLPHYN\n",
    "using YAML"
   ]
  },
  {
   "cell_type": "code",
   "execution_count": 53,
   "id": "84118366-41de-4279-ba61-68a8e616d883",
   "metadata": {
    "tags": []
   },
   "outputs": [
    {
     "data": {
      "text/plain": [
       "Dict{Any, Any} with 38 entries:\n",
       "  \"H2PipeInteger\"                           => 0\n",
       "  \"H2CO2Cap\"                                => 0\n",
       "  \"NetworkExpansion\"                        => 1\n",
       "  \"TimeDomainReductionFolder\"               => \"TDR_Results\"\n",
       "  \"ModelingToGenerateAlternativeIterations\" => 3\n",
       "  \"SystemCO2Constraint\"                     => 1\n",
       "  \"H2G2PCommit\"                             => 0\n",
       "  \"ModelH2Trucks\"                           => 1\n",
       "  \"ParameterScale\"                          => 1\n",
       "  \"H2NetworkExpansion\"                      => 1\n",
       "  \"EnergyShareRequirement\"                  => 0\n",
       "  \"PrintModel\"                              => 0\n",
       "  \"TimeDomainReduction\"                     => 1\n",
       "  \"Trans_Loss_Segments\"                     => 1\n",
       "  \"CapacityReserveMargin\"                   => 0\n",
       "  \"LogFile\"                                 => \"output.log\"\n",
       "  \"ModelingtoGenerateAlternativeSlack\"      => 0.1\n",
       "  \"Solver\"                                  => \"gurobi\"\n",
       "  \"MethodofMorris\"                          => 0\n",
       "  \"ModelH2Liquid\"                           => 0\n",
       "  \"Reserves\"                                => 0\n",
       "  \"StorageLosses\"                           => 1\n",
       "  \"OperationWrapping\"                       => 1\n",
       "  \"IncludeLossesInESR\"                      => 0\n",
       "  \"MultiStage\"                              => 0\n",
       "  ⋮                                         => ⋮"
      ]
     },
     "execution_count": 53,
     "metadata": {},
     "output_type": "execute_result"
    }
   ],
   "source": [
    "genx_settings = joinpath(settings_path, \"genx_settings.yml\") #Settings YAML file path for GenX\n",
    "hsc_settings = joinpath(settings_path, \"hsc_settings.yml\") #Settings YAML file path for HSC modelgrated model\n",
    "csc_settings = joinpath(settings_path, \"csc_settings.yml\") #Settings YAML file path for CSC model\n",
    "besc_settings = joinpath(settings_path, \"besc_settings.yml\") #Settings YAML file path for BESC model\n",
    "sf_settings = joinpath(settings_path, \"syn_fuel_settings.yml\") #Settings YAML file path for SF model\n",
    "\n",
    "mysetup_genx = YAML.load(open(genx_settings)) # mysetup dictionary stores GenX-specific parameters\n",
    "mysetup_hsc = YAML.load(open(hsc_settings)) # mysetup dictionary stores H2 supply chain-specific parameters\n",
    "#mysetup_csc = YAML.load(open(csc_settings)) # mysetup dictionary stores CO2 supply chain-specific parameters\n",
    "#mysetup_besc = YAML.load(open(besc_settings)) # mysetup dictionary stores CO2 supply chain-specific parameters\n",
    "#mysetup_sf = YAML.load(open(sf_settings)) # mysetup dictionary stores CO2 supply chain-specific parameters\n",
    "\n",
    "global_settings = joinpath(settings_path, \"global_model_settings.yml\") # Global settings for inte\n",
    "mysetup_global = YAML.load(open(global_settings)) # mysetup dictionary stores global settings\n",
    "mysetup = Dict()\n",
    "mysetup = merge(mysetup_hsc, mysetup_genx, mysetup_global) #Merge dictionary - value of common keys will be overwritten by value in global_model_settings"
   ]
  },
  {
   "cell_type": "code",
   "execution_count": 54,
   "id": "14fb0de8-cb99-4018-98a3-f07ef902e3d3",
   "metadata": {
    "tags": []
   },
   "outputs": [
    {
     "name": "stdout",
     "output_type": "stream",
     "text": [
      "Time Series Data Already Clustered.\n"
     ]
    }
   ],
   "source": [
    "## Cluster time series myinputs if necessary and if specified by the user\n",
    "TDRpath = joinpath(inpath, mysetup[\"TimeDomainReductionFolder\"])\n",
    "if mysetup[\"TimeDomainReduction\"] == 1\n",
    "    if mysetup[\"ModelH2\"] == 1\n",
    "        if (!isfile(TDRpath*\"/Load_data.csv\")) || (!isfile(TDRpath*\"/Generators_variability.csv\")) || (!isfile(TDRpath*\"/Fuels_data.csv\")) || (!isfile(TDRpath*\"/HSC_generators_variability.csv\")) || (!isfile(TDRpath*\"/HSC_load_data.csv\"))\n",
    "            println(\"Clustering Time Series Data...\")\n",
    "            cluster_myinputs(inpath, settings_path, mysetup)\n",
    "        else\n",
    "            println(\"Time Series Data Already Clustered.\")\n",
    "        end\n",
    "    else\n",
    "        if (!isfile(TDRpath*\"/Load_data.csv\")) || (!isfile(TDRpath*\"/Generators_variability.csv\")) || (!isfile(TDRpath*\"/Fuels_data.csv\"))\n",
    "            println(\"Clustering Time Series Data...\")\n",
    "            cluster_myinputs(inpath, settings_path, mysetup)\n",
    "        else\n",
    "            println(\"Time Series Data Already Clustered.\")\n",
    "        end\n",
    "    end\n",
    "end"
   ]
  },
  {
   "cell_type": "code",
   "execution_count": 55,
   "id": "6650a704-e0b0-4792-9888-4db3068e65b3",
   "metadata": {
    "tags": []
   },
   "outputs": [
    {
     "name": "stdout",
     "output_type": "stream",
     "text": [
      "Configuring Solver\n"
     ]
    },
    {
     "data": {
      "text/plain": [
       "MathOptInterface.OptimizerWithAttributes(Gurobi.Optimizer, Pair{MathOptInterface.AbstractOptimizerAttribute, Any}[MathOptInterface.RawOptimizerAttribute(\"OptimalityTol\") => 1.0e-6, MathOptInterface.RawOptimizerAttribute(\"FeasibilityTol\") => 1.0e-6, MathOptInterface.RawOptimizerAttribute(\"Presolve\") => 1, MathOptInterface.RawOptimizerAttribute(\"AggFill\") => 10, MathOptInterface.RawOptimizerAttribute(\"PreDual\") => 0, MathOptInterface.RawOptimizerAttribute(\"TimeLimit\") => 110000, MathOptInterface.RawOptimizerAttribute(\"MIPGap\") => 0.0001, MathOptInterface.RawOptimizerAttribute(\"Method\") => 4, MathOptInterface.RawOptimizerAttribute(\"BarConvTol\") => 1.0e-8, MathOptInterface.RawOptimizerAttribute(\"NumericFocus\") => 0, MathOptInterface.RawOptimizerAttribute(\"Crossover\") => -1, MathOptInterface.RawOptimizerAttribute(\"LogFile\") => \"gurobi.log\"])"
      ]
     },
     "execution_count": 55,
     "metadata": {},
     "output_type": "execute_result"
    }
   ],
   "source": [
    "# ### Configure solver\n",
    "println(\"Configuring Solver\")\n",
    "OPTIMIZER = configure_solver(mysetup[\"Solver\"], settings_path)"
   ]
  },
  {
   "cell_type": "code",
   "execution_count": 58,
   "id": "ea31dab4-3cd3-4485-8a8a-ef8d7082a036",
   "metadata": {
    "tags": []
   },
   "outputs": [
    {
     "name": "stdout",
     "output_type": "stream",
     "text": [
      "Reading Input CSV Files\n",
      "Network.csv Successfully Read!\n",
      "Load_data.csv Successfully Read!\n",
      "Fuels_data.csv Successfully Read!\n",
      "Generators_data.csv Successfully Read!\n",
      "Generators_variability.csv Successfully Read!\n",
      "Validating time basis\n",
      "CO2_cap.csv Successfully Read!\n",
      "CSV Files Successfully Read In From /Users/lesarmstrong/Documents/GitHub/DOLPHYN-dev/Example_Systems/SmallNewEngland/ThreeZones\n",
      "Reading H2 Input CSV Files\n",
      "HSC_generation.csv Successfully Read!\n",
      "HSC_load_data.csv Successfully Read!\n",
      "HSC_generators_variability.csv Successfully Read!\n",
      "HSC_pipelines.csv Successfully Read!\n",
      "HSC_zone_truck_distances_miles.csv Successfully Read!\n",
      "HSC_trucks.csv Successfully Read!\n",
      "HSC_g2p_variability.csv Successfully Read!\n",
      "Period_map.csv Successfully Read!\n",
      "HSC Input CSV Files Successfully Read In From /Users/lesarmstrong/Documents/GitHub/DOLPHYN-dev/Example_Systems/SmallNewEngland/ThreeZones/\n"
     ]
    },
    {
     "name": "stderr",
     "output_type": "stream",
     "text": [
      "\u001b[36m\u001b[1m[ \u001b[22m\u001b[39m\u001b[36m\u001b[1mInfo: \u001b[22m\u001b[39m2023-08-28 17:31:18 Reading H2 Input CSV Files\n",
      "\u001b[36m\u001b[1m[ \u001b[22m\u001b[39m\u001b[36m\u001b[1mInfo: \u001b[22m\u001b[39m2023-08-28 17:31:18 HSC_load_data.csv Successfully Read!\n",
      "\u001b[36m\u001b[1m[ \u001b[22m\u001b[39m\u001b[36m\u001b[1mInfo: \u001b[22m\u001b[39m2023-08-28 17:31:18 HSC_generators_variability.csv Successfully Read!\n",
      "\u001b[36m\u001b[1m[ \u001b[22m\u001b[39m\u001b[36m\u001b[1mInfo: \u001b[22m\u001b[39m2023-08-28 17:31:18 HSC_pipelines.csv Successfully Read!\n",
      "\u001b[36m\u001b[1m[ \u001b[22m\u001b[39m\u001b[36m\u001b[1mInfo: \u001b[22m\u001b[39m2023-08-28 17:31:18 HSC_zone_truck_distances_miles.csv Successfully Read!\n",
      "\u001b[36m\u001b[1m[ \u001b[22m\u001b[39m\u001b[36m\u001b[1mInfo: \u001b[22m\u001b[39m2023-08-28 17:31:18 HSC_trucks.csv Successfully Read!\n",
      "\u001b[36m\u001b[1m[ \u001b[22m\u001b[39m\u001b[36m\u001b[1mInfo: \u001b[22m\u001b[39m2023-08-28 17:31:18 HSC_g2p_variability.csv Successfully Read!\n",
      "\u001b[36m\u001b[1m[ \u001b[22m\u001b[39m\u001b[36m\u001b[1mInfo: \u001b[22m\u001b[39m2023-08-28 17:31:18 HSC Input CSV Files Successfully Read In From /Users/lesarmstrong/Documents/GitHub/DOLPHYN-dev/Example_Systems/SmallNewEngland/ThreeZones/\n"
     ]
    },
    {
     "data": {
      "text/plain": [
       "Dict{Any, Any} with 127 entries:\n",
       "  \"Z\"                       => 3\n",
       "  \"H2_Voll\"                 => [50000000]\n",
       "  \"LOSS_LINES\"              => [1, 2]\n",
       "  \"RET_CAP_TRUCK\"           => Int64[]\n",
       "  \"H2_G2P_RET_CAP\"          => [1, 2, 3]\n",
       "  \"RET_CAP_CHARGE\"          => Int64[]\n",
       "  \"pC_D_Curtail\"            => [50.0, 45.0, 27.5, 10.0]\n",
       "  \"dfGen\"                   => \u001b[1m10×66 DataFrame\u001b[0m…\n",
       "  \"pC_H2_D_Curtail\"         => [50.0]\n",
       "  \"pCAPEX_Comp_H2_Pipe\"     => [4.35853e6, 5.78405e6, 5.78405e6]\n",
       "  \"H2_G2P_NAME\"             => InlineStrings.String7[\"G2P_1\", \"G2P_2\", \"G2P_3\"]\n",
       "  \"H2_G2P_COMMIT\"           => Int64[]\n",
       "  \"C_G2P_Start\"             => [500.0, 500.0, 500.0]\n",
       "  \"pTrans_Max_Possible\"     => [5.9, 4.0]\n",
       "  \"pNet_Map\"                => [1.0 -1.0 0.0; 1.0 0.0 -1.0]\n",
       "  \"omega\"                   => [52.1429, 52.1429, 52.1429, 52.1429, 52.1429, 52…\n",
       "  \"pMax_Line_Reinforcement\" => [2.95, 2.0]\n",
       "  \"RET_CAP_ENERGY\"          => [8, 9, 10]\n",
       "  \"RESOURCES\"               => InlineStrings.String31[\"MA_natural_gas_combined_…\n",
       "  \"COMMIT\"                  => [1, 3, 6]\n",
       "  \"pCAPEX_H2_Pipe\"          => [3.13372e7, 5.00491e7, 5.00491e7]\n",
       "  \"H2_P\"                    => 3\n",
       "  \"H2_STOR_ALL\"             => [11, 12, 13]\n",
       "  \"pMax_D_Curtail\"          => [1.0, 0.04, 0.024, 0.003]\n",
       "  \"H2_STOR_LONG_DURATION\"   => Int64[]\n",
       "  ⋮                         => ⋮"
      ]
     },
     "execution_count": 58,
     "metadata": {},
     "output_type": "execute_result"
    }
   ],
   "source": [
    "# #### Running a case\n",
    "\n",
    "# ### Load myinputs\n",
    "# println(\"Loading myinputs\")\n",
    " myinputs = Dict() # myinputs dictionary will store read-in data and computed parameters\n",
    " myinputs = load_inputs(mysetup, inpath)\n",
    "\n",
    "# ### Load H2 myinputs if modeling the hydrogen supply chain\n",
    "if mysetup[\"ModelH2\"] == 1\n",
    "    myinputs = load_h2_inputs(myinputs, mysetup, inpath)\n",
    "end\n"
   ]
  },
  {
   "cell_type": "code",
   "execution_count": 23,
   "id": "80edb723-e3c6-4c86-b9c0-f82390337eed",
   "metadata": {
    "tags": []
   },
   "outputs": [],
   "source": [
    "using JuMP\n",
    "using DataFrames"
   ]
  },
  {
   "cell_type": "code",
   "execution_count": 69,
   "id": "2d6cb030-dc27-4cdf-9cc1-ae20c00825dd",
   "metadata": {
    "tags": []
   },
   "outputs": [
    {
     "data": {
      "text/plain": [
       "1"
      ]
     },
     "execution_count": 69,
     "metadata": {},
     "output_type": "execute_result"
    }
   ],
   "source": [
    "#Core GenX Features\n",
    "\n",
    "include(\"/Users/lesarmstrong/Documents/GitHub/DOLPHYN-dev/src/GenX/src/model/core/discharge/discharge.jl\")\n",
    "include(\"/Users/lesarmstrong/Documents/GitHub/DOLPHYN-dev/src/GenX/src/model/core/discharge/investment_discharge.jl\")\n",
    "include(\"/Users/lesarmstrong/Documents/GitHub/DOLPHYN-dev/src/GenX/src/model/core/non_served_energy.jl\")\n",
    "include(\"/Users/lesarmstrong/Documents/GitHub/DOLPHYN-dev/src/GenX/src/model/core/ucommit.jl\")\n",
    "include(\"/Users/lesarmstrong/Documents/GitHub/DOLPHYN-dev/src/GenX/src/model/core/reserves.jl\")\n",
    "include(\"/Users/lesarmstrong/Documents/GitHub/DOLPHYN-dev/src/GenX/src/model/core/transmission.jl\")\n",
    "include(\"/Users/lesarmstrong/Documents/GitHub/DOLPHYN-dev/src/GenX/src/model/core/emissions.jl\")\n",
    "include(\"/Users/lesarmstrong/Documents/GitHub/DOLPHYN-dev/src/GenX/src/model/resources/curtailable_variable_renewable/curtailable_variable_renewable.jl\")\n",
    "include(\"/Users/lesarmstrong/Documents/GitHub/DOLPHYN-dev/src/GenX/src/model/resources/flexible_demand/flexible_demand.jl\")\n",
    "include(\"/Users/lesarmstrong/Documents/GitHub/DOLPHYN-dev/src/GenX/src/model/resources/hydro/hydro_res.jl\")\n",
    "include(\"/Users/lesarmstrong/Documents/GitHub/DOLPHYN-dev/src/GenX/src/model/resources/hydro/hydro_inter_period_linkage.jl\")\n",
    "include(\"/Users/lesarmstrong/Documents/GitHub/DOLPHYN-dev/src/GenX/src/model/resources/must_run/must_run.jl\")\n",
    "include(\"/Users/lesarmstrong/Documents/GitHub/DOLPHYN-dev/src/GenX/src/model/resources/storage/storage.jl\")\n",
    "include(\"/Users/lesarmstrong/Documents/GitHub/DOLPHYN-dev/src/GenX/src/model/utility.jl\")\n",
    "include(\"/Users/lesarmstrong/Documents/GitHub/DOLPHYN-dev/src/GenX/src/model/resources/storage/investment_energy.jl\")\n",
    "include(\"/Users/lesarmstrong/Documents/GitHub/DOLPHYN-dev/src/GenX/src/model/resources/storage/storage_all.jl\")\n",
    "include(\"/Users/lesarmstrong/Documents/GitHub/DOLPHYN-dev/src/GenX/src/model/resources/storage/long_duration_storage.jl\")\n",
    "include(\"/Users/lesarmstrong/Documents/GitHub/DOLPHYN-dev/src/GenX/src/model/resources/storage/investment_charge.jl\")\n",
    "include(\"/Users/lesarmstrong/Documents/GitHub/DOLPHYN-dev/src/GenX/src/model/resources/storage/storage_asymmetric.jl\")\n",
    "include(\"/Users/lesarmstrong/Documents/GitHub/DOLPHYN-dev/src/GenX/src/model/resources/storage/storage_symmetric.jl\")\n",
    "\n",
    "include(\"/Users/lesarmstrong/Documents/GitHub/DOLPHYN-dev/src/GenX/src/model/resources/thermal/thermal.jl\")\n",
    "include(\"/Users/lesarmstrong/Documents/GitHub/DOLPHYN-dev/src/GenX/src/model/resources/thermal/thermal_commit.jl\")\n",
    "include(\"/Users/lesarmstrong/Documents/GitHub/DOLPHYN-dev/src/GenX/src/model/resources/thermal/thermal_no_commit.jl\")\n",
    "\n",
    "include(\"/Users/lesarmstrong/Documents/GitHub/DOLPHYN-dev/src/GenX/src/model/policies/co2_cap.jl\")\n",
    "include(\"/Users/lesarmstrong/Documents/GitHub/DOLPHYN-dev/src/GenX/src/model/policies/energy_share_requirement.jl\")\n",
    "include(\"/Users/lesarmstrong/Documents/GitHub/DOLPHYN-dev/src/GenX/src/model/policies/cap_reserve_margin.jl\")\n",
    "include(\"/Users/lesarmstrong/Documents/GitHub/DOLPHYN-dev/src/GenX/src/model/policies/minimum_capacity_requirement.jl\")\n",
    "\n",
    "#Core HSC Modelling Features\n",
    "include(\"/Users/lesarmstrong/Documents/GitHub/DOLPHYN-dev/src/HSC/model/core/h2_investment.jl\")\n",
    "include(\"/Users/lesarmstrong/Documents/GitHub/DOLPHYN-dev/src/HSC/model/core/h2_outputs.jl\")\n",
    "include(\"/Users/lesarmstrong/Documents/GitHub/DOLPHYN-dev/src/HSC/model/core/h2_non_served.jl\")\n",
    "\n",
    "include(\"/Users/lesarmstrong/Documents/GitHub/DOLPHYN-dev/src/HSC/model/flexible_demand/h2_flexible_demand.jl\")\n",
    "include(\"/Users/lesarmstrong/Documents/GitHub/DOLPHYN-dev/src/HSC/model/core/emissions_hsc.jl\")\n",
    "\n",
    "# H2 production\n",
    "include(\"/Users/lesarmstrong/Documents/GitHub/DOLPHYN-dev/src/HSC/model/generation/h2_production_commit.jl\")\n",
    "include(\"/Users/lesarmstrong/Documents/GitHub/DOLPHYN-dev/src/HSC/model/generation/h2_production_no_commit.jl\")\n",
    "include(\"/Users/lesarmstrong/Documents/GitHub/DOLPHYN-dev/src/HSC/model/generation/h2_production_all.jl\")\n",
    "include(\"/Users/lesarmstrong/Documents/GitHub/DOLPHYN-dev/src/HSC/model/generation/h2_production.jl\")\n",
    "\n",
    "# H2 pipelines\n",
    "include(\"/Users/lesarmstrong/Documents/GitHub/DOLPHYN-dev/src/HSC/model/transmission/h2_pipeline.jl\")\n",
    "\n",
    "# H2 trucks\n",
    "include(\"/Users/lesarmstrong/Documents/GitHub/DOLPHYN-dev/src/HSC/model/truck/h2_truck_investment.jl\")\n",
    "include(\"/Users/lesarmstrong/Documents/GitHub/DOLPHYN-dev/src/HSC/model/truck/h2_truck.jl\")\n",
    "include(\"/Users/lesarmstrong/Documents/GitHub/DOLPHYN-dev/src/HSC/model/truck/h2_truck_all.jl\")\n",
    "include(\"/Users/lesarmstrong/Documents/GitHub/DOLPHYN-dev/src/HSC/model/truck/h2_long_duration_truck.jl\")\n",
    "\n",
    "# H2 storage\n",
    "include(\"/Users/lesarmstrong/Documents/GitHub/DOLPHYN-dev/src/HSC/model/storage/h2_storage_investment_energy.jl\")\n",
    "include(\"/Users/lesarmstrong/Documents/GitHub/DOLPHYN-dev/src/HSC/model/storage/h2_storage_investment_charge.jl\")\n",
    "include(\"/Users/lesarmstrong/Documents/GitHub/DOLPHYN-dev/src/HSC/model/storage/h2_storage.jl\")\n",
    "include(\"/Users/lesarmstrong/Documents/GitHub/DOLPHYN-dev/src/HSC/model/storage/h2_storage_all.jl\")\n",
    "include(\"/Users/lesarmstrong/Documents/GitHub/DOLPHYN-dev/src/HSC/model/storage/h2_long_duration_storage.jl\")\n",
    "\n",
    "# H2 G2P\n",
    "include(\"/Users/lesarmstrong/Documents/GitHub/DOLPHYN-dev/src/HSC/model/g2p/h2_g2p_investment.jl\")\n",
    "include(\"/Users/lesarmstrong/Documents/GitHub/DOLPHYN-dev/src/HSC/model/g2p/h2_g2p_discharge.jl\")\n",
    "include(\"/Users/lesarmstrong/Documents/GitHub/DOLPHYN-dev/src/HSC/model/g2p/h2_g2p_all.jl\")\n",
    "include(\"/Users/lesarmstrong/Documents/GitHub/DOLPHYN-dev/src/HSC/model/g2p/h2_g2p_commit.jl\")\n",
    "include(\"/Users/lesarmstrong/Documents/GitHub/DOLPHYN-dev/src/HSC/model/g2p/h2_g2p_no_commit.jl\")\n",
    "include(\"/Users/lesarmstrong/Documents/GitHub/DOLPHYN-dev/src/HSC/model/g2p/h2_g2p.jl\")\n",
    "\n",
    "# Policies\n",
    "include(\"/Users/lesarmstrong/Documents/GitHub/DOLPHYN-dev/src/HSC/model/policies/co2_cap_hsc.jl\")\n",
    "include(\"/Users/lesarmstrong/Documents/GitHub/DOLPHYN-dev/src/multisector/genx_hsc/co2_cap_power_hsc.jl\")\n",
    "\n",
    "ModelScalingFactor = 1"
   ]
  },
  {
   "cell_type": "code",
   "execution_count": 66,
   "id": "5516fb78-8df8-452b-8eb7-bdf4b9ea34c5",
   "metadata": {
    "tags": []
   },
   "outputs": [
    {
     "name": "stdout",
     "output_type": "stream",
     "text": [
      "Dict{Any, Any}(\"H2PipeInteger\" => 0, \"H2CO2Cap\" => 0, \"NetworkExpansion\" => 1, \"TimeDomainReductionFolder\" => \"TDR_Results\", \"ModelingToGenerateAlternativeIterations\" => 3, \"SystemCO2Constraint\" => 1, \"H2G2PCommit\" => 0, \"ModelH2Trucks\" => 1, \"ParameterScale\" => 1, \"H2NetworkExpansion\" => 1, \"EnergyShareRequirement\" => 0, \"PrintModel\" => 0, \"TimeDomainReduction\" => 1, \"Trans_Loss_Segments\" => 1, \"CapacityReserveMargin\" => 0, \"LogFile\" => \"output.log\", \"ModelingtoGenerateAlternativeSlack\" => 0.1, \"Solver\" => \"gurobi\", \"MethodofMorris\" => 0, \"ModelH2G2P\" => 1, \"ModelH2Liquid\" => 0, \"Reserves\" => 0, \"StorageLosses\" => 1, \"OperationWrapping\" => 1, \"IncludeLossesInESR\" => 0, \"MultiStage\" => 0, \"OverwriteResults\" => 0, \"Log\" => true, \"UCommit\" => 2, \"H2GenCommit\" => 0, \"ModelingToGenerateAlternatives\" => 0, \"MaxCapReq\" => 0, \"MinCapReq\" => 0, \"CO2Cap\" => 2, \"ModelH2\" => 1, \"H2TrucksMaxDistance\" => 500, \"WriteShadowPrices\" => 1, \"Zones\" => [1, 2, 3], \"ModelH2Pipelines\" => 1)\n"
     ]
    }
   ],
   "source": [
    "println(mysetup)"
   ]
  },
  {
   "cell_type": "markdown",
   "id": "dbc9cd48-d4b1-4cb9-bfb8-09e735be3db0",
   "metadata": {},
   "source": []
  },
  {
   "cell_type": "code",
   "execution_count": 72,
   "id": "d10c7fb6-4b30-4fd5-93a8-f556a9348b39",
   "metadata": {
    "tags": []
   },
   "outputs": [
    {
     "name": "stdout",
     "output_type": "stream",
     "text": [
      "Set parameter Username\n",
      "Academic license - for non-commercial use only - expires 2024-01-07\n",
      "Set parameter Presolve to value 1\n",
      "Set parameter AggFill to value 10\n",
      "Set parameter PreDual to value 0\n",
      "Set parameter TimeLimit to value 110000\n",
      "Set parameter Method to value 4\n",
      "Set parameter LogFile to value \"gurobi.log\"\n",
      "Discharge Module\n",
      "Non-served Energy Module\n",
      "Investment Discharge Module\n",
      "Unit Commitment Module\n",
      "Emissions Module (for CO2 Policy modularization\n",
      "Transmission Module\n",
      "Dispatchable Resources Module\n",
      "Storage Resources Module\n",
      "Storage Investment Module\n",
      "Storage Core Resources Module\n",
      "Storage Resources with Symmetric Charge/Discharge Capacity Module\n",
      "Thermal (Unit Commitment) Resources Module\n",
      "Hydrogen Generation and Storage Discharge Module\n",
      "Hydrogen Investment Discharge Module\n",
      "Hydrogen Production Module\n",
      "H2 Production Core Module\n",
      "H2 Production (Unit Commitment) Module\n",
      "H2 Production (No Unit Commitment) Module\n",
      "H2 Emissions Module for CO2 Policy modularization\n",
      "Hydrogen Non-served Energy Module\n",
      "Hydrogen Storage Module\n",
      "H2 Storage Energy Investment Module\n",
      "H2 Storage Charging Investment Module\n",
      "H2 Storage Core Resources Module\n"
     ]
    },
    {
     "name": "stderr",
     "output_type": "stream",
     "text": [
      "\u001b[36m\u001b[1m[ \u001b[22m\u001b[39m\u001b[36m\u001b[1mInfo: \u001b[22m\u001b[39m2023-08-28 18:01:17 Hydrogen Generation and Storage Discharge Module\n",
      "\u001b[36m\u001b[1m[ \u001b[22m\u001b[39m\u001b[36m\u001b[1mInfo: \u001b[22m\u001b[39m2023-08-28 18:01:17 Hydrogen Investment Discharge Module\n",
      "\u001b[36m\u001b[1m[ \u001b[22m\u001b[39m\u001b[36m\u001b[1mInfo: \u001b[22m\u001b[39m2023-08-28 18:01:17 Hydrogen Production Module\n",
      "\u001b[36m\u001b[1m[ \u001b[22m\u001b[39m\u001b[36m\u001b[1mInfo: \u001b[22m\u001b[39m2023-08-28 18:01:17 H2 Production Core Module\n",
      "\u001b[36m\u001b[1m[ \u001b[22m\u001b[39m\u001b[36m\u001b[1mInfo: \u001b[22m\u001b[39m2023-08-28 18:01:17 H2 Production (Unit Commitment) Module\n",
      "\u001b[36m\u001b[1m[ \u001b[22m\u001b[39m\u001b[36m\u001b[1mInfo: \u001b[22m\u001b[39m2023-08-28 18:01:17 H2 Production (No Unit Commitment) Module\n",
      "\u001b[36m\u001b[1m[ \u001b[22m\u001b[39m\u001b[36m\u001b[1mInfo: \u001b[22m\u001b[39m2023-08-28 18:01:17 H2 Emissions Module for CO2 Policy modularization\n",
      "\u001b[36m\u001b[1m[ \u001b[22m\u001b[39m\u001b[36m\u001b[1mInfo: \u001b[22m\u001b[39m2023-08-28 18:01:17 Hydrogen Non-served Energy Module\n",
      "\u001b[36m\u001b[1m[ \u001b[22m\u001b[39m\u001b[36m\u001b[1mInfo: \u001b[22m\u001b[39m2023-08-28 18:01:17 Hydrogen Storage Module\n",
      "\u001b[36m\u001b[1m[ \u001b[22m\u001b[39m\u001b[36m\u001b[1mInfo: \u001b[22m\u001b[39m2023-08-28 18:01:17 H2 Storage Energy Investment Module\n",
      "\u001b[36m\u001b[1m[ \u001b[22m\u001b[39m\u001b[36m\u001b[1mInfo: \u001b[22m\u001b[39m2023-08-28 18:01:17 H2 Storage Charging Investment Module\n",
      "\u001b[36m\u001b[1m[ \u001b[22m\u001b[39m\u001b[36m\u001b[1mInfo: \u001b[22m\u001b[39m2023-08-28 18:01:17 H2 Storage Core Resources Module\n"
     ]
    },
    {
     "name": "stdout",
     "output_type": "stream",
     "text": [
      "H2 Flexible Demand Resources Module\n",
      "Hydrogen Pipeline Module\n",
      "Hydrogen Truck Module\n",
      "H2 Truck Investment Module\n",
      "H2 Truck Core Resources Module\n"
     ]
    },
    {
     "name": "stderr",
     "output_type": "stream",
     "text": [
      "\u001b[36m\u001b[1m[ \u001b[22m\u001b[39m\u001b[36m\u001b[1mInfo: \u001b[22m\u001b[39m2023-08-28 18:01:17 H2 Flexible Demand Resources Module\n",
      "\u001b[36m\u001b[1m[ \u001b[22m\u001b[39m\u001b[36m\u001b[1mInfo: \u001b[22m\u001b[39m2023-08-28 18:01:17 Hydrogen Pipeline Module\n",
      "\u001b[36m\u001b[1m[ \u001b[22m\u001b[39m\u001b[36m\u001b[1mInfo: \u001b[22m\u001b[39m2023-08-28 18:01:18 Hydrogen Truck Module\n",
      "\u001b[36m\u001b[1m[ \u001b[22m\u001b[39m\u001b[36m\u001b[1mInfo: \u001b[22m\u001b[39m2023-08-28 18:01:18 H2 Truck Investment Module\n",
      "\u001b[36m\u001b[1m[ \u001b[22m\u001b[39m\u001b[36m\u001b[1mInfo: \u001b[22m\u001b[39m2023-08-28 18:01:18 H2 Truck Core Resources Module\n"
     ]
    },
    {
     "name": "stdout",
     "output_type": "stream",
     "text": [
      "H2 g2p demand module\n",
      "C02 Policies Module for power and hydrogen system combined\n",
      "C02 Policies Module\n"
     ]
    },
    {
     "name": "stderr",
     "output_type": "stream",
     "text": [
      "\u001b[36m\u001b[1m[ \u001b[22m\u001b[39m\u001b[36m\u001b[1mInfo: \u001b[22m\u001b[39m2023-08-28 18:01:18 H2 g2p demand module\n",
      "\u001b[36m\u001b[1m[ \u001b[22m\u001b[39m\u001b[36m\u001b[1mInfo: \u001b[22m\u001b[39m2023-08-28 18:01:18 C02 Policies Module for power and hydrogen system combined\n"
     ]
    }
   ],
   "source": [
    "\n",
    "T = myinputs[\"T\"]     # Number of time steps (hours)\n",
    "Z = myinputs[\"Z\"]     # Number of zones - assumed to be same for power and hydrogen system\n",
    "\n",
    "## Start pre-solve timer\n",
    "presolver_start_time = time()\n",
    "\n",
    "# Generate Energy Portfolio (EP) Model\n",
    "EP = Model(OPTIMIZER)\n",
    "\n",
    "# Introduce dummy variable fixed to zero to ensure that expressions like eTotalCap,\n",
    "# eTotalCapCharge, eTotalCapEnergy and eAvail_Trans_Cap all have a JuMP variable\n",
    "@variable(EP, vZERO == 0);\n",
    "\n",
    "# Initialize Power Balance Expression\n",
    "# Expression for \"baseline\" power balance constraint\n",
    "@expression(EP, ePowerBalance[t=1:T, z=1:Z], 0)\n",
    "\n",
    "# Initialize Hydrogen Balance Expression\n",
    "# Expression for \"baseline\" H2 balance constraint\n",
    "@expression(EP, eH2Balance[t=1:T, z=1:Z], 0)\n",
    "\n",
    "\n",
    "\n",
    "# Initialize Objective Function Expression\n",
    "@expression(EP, eObj, 0)\n",
    "\n",
    "# Power supply by z and timestep - used in emissions constraints\n",
    "@expression(EP, eGenerationByZone[z=1:Z, t=1:T], 0)\n",
    "@expression(EP, eTransmissionByZone[z=1:Z, t=1:T], 0)\n",
    "@expression(EP, eDemandByZone[t=1:T, z=1:Z], myinputs[\"pD\"][t, z])\n",
    "# Additional demand by z and timestep - used to record power consumption in other sectors like hydrogen and carbon\n",
    "@expression(EP, eAdditionalDemandByZone[t=1:T, z=1:Z], 0)    \n",
    "\n",
    "##### Power System related modules ############\n",
    "# Infrastructure\n",
    "discharge!(EP, myinputs, mysetup)\n",
    "\n",
    "non_served_energy!(EP, myinputs, mysetup)\n",
    "\n",
    "investment_discharge!(EP, myinputs, mysetup)\n",
    "\n",
    "if mysetup[\"UCommit\"] > 0\n",
    "    ucommit!(EP, myinputs, mysetup)\n",
    "end\n",
    "\n",
    "# Emissions of various power sector resources\n",
    "emissions!(EP, myinputs)\n",
    "\n",
    "if mysetup[\"Reserves\"] > 0\n",
    "    reserves!(EP, myinputs, mysetup)\n",
    "end\n",
    "\n",
    "if Z > 1\n",
    "    transmission!(EP, myinputs, mysetup)\n",
    "end\n",
    "\n",
    "# Technologies\n",
    "# Model constraints, variables, expression related to dispatchable renewable resources\n",
    "\n",
    "if !isempty(myinputs[\"VRE\"])\n",
    "    curtailable_variable_renewable!(EP, myinputs, mysetup)\n",
    "end\n",
    "\n",
    "# Model constraints, variables, expression related to non-dispatchable renewable resources\n",
    "if !isempty(myinputs[\"MUST_RUN\"])\n",
    "    must_run!(EP, myinputs, mysetup)\n",
    "end\n",
    "\n",
    "# Model constraints, variables, expression related to energy storage modeling\n",
    "if !isempty(myinputs[\"STOR_ALL\"])\n",
    "    storage!(EP, myinputs, mysetup)\n",
    "end\n",
    "\n",
    "# Model constraints, variables, expression related to reservoir hydropower resources\n",
    "if !isempty(myinputs[\"HYDRO_RES\"])\n",
    "    hydro_res!(EP, myinputs, mysetup)\n",
    "end\n",
    "\n",
    "# Model constraints, variables, expression related to reservoir hydropower resources with long duration storage\n",
    "if mysetup[\"OperationWrapping\"] == 1 && !isempty(myinputs[\"STOR_HYDRO_LONG_DURATION\"])\n",
    "    hydro_inter_period_linkage!(EP, myinputs)\n",
    "end\n",
    "\n",
    "# Model constraints, variables, expression related to demand flexibility resources\n",
    "if !isempty(myinputs[\"FLEX\"])\n",
    "    flexible_demand!(EP, myinputs, mysetup)\n",
    "end\n",
    "# Model constraints, variables, expression related to thermal resource technologies\n",
    "if !isempty(myinputs[\"THERM_ALL\"])\n",
    "    thermal!(EP, myinputs, mysetup)\n",
    "end\n",
    "\n",
    "# Model constraints, variables, expression related to retrofit technologies\n",
    "if !isempty(myinputs[\"RETRO\"])\n",
    "    EP = retrofit(EP, myinputs)\n",
    "end\n",
    "\n",
    "###### START OF H2 INFRASTRUCTURE MODEL --- SHOULD BE A SEPARATE FILE?? ###############\n",
    "if mysetup[\"ModelH2\"] == 1\n",
    "    @expression(EP, eHGenerationByZone[z=1:Z, t=1:T], 0)\n",
    "    @expression(EP, eHTransmissionByZone[t=1:T, z=1:Z], 0)\n",
    "    @expression(EP, eHDemandByZone[t=1:T, z=1:Z], myinputs[\"H2_D\"][t, z])\n",
    "    # Net Power consumption by HSC supply chain by z and timestep - used in emissions constraints\n",
    "    @expression(EP, eH2NetpowerConsumptionByAll[t=1:T,z=1:Z], 0)    \n",
    "\n",
    "    # Infrastructure\n",
    "    EP = h2_outputs(EP, myinputs, mysetup)\n",
    "\n",
    "    # Investment cost of various hydrogen generation sources\n",
    "    EP = h2_investment(EP, myinputs, mysetup)\n",
    "\n",
    "    if !isempty(myinputs[\"H2_GEN\"])\n",
    "        #model H2 generation\n",
    "        EP = h2_production(EP, myinputs, mysetup)\n",
    "    end\n",
    "\n",
    "    # Direct emissions of various hydrogen sector resources\n",
    "    EP = emissions_hsc(EP, myinputs,mysetup)\n",
    "\n",
    "    # Model H2 non-served\n",
    "    EP = h2_non_served(EP, myinputs,mysetup)\n",
    "\n",
    "    # Model hydrogen storage technologies\n",
    "    if !isempty(myinputs[\"H2_STOR_ALL\"])\n",
    "        EP = h2_storage(EP,myinputs,mysetup)\n",
    "    end\n",
    "\n",
    "    if !isempty(myinputs[\"H2_FLEX\"])\n",
    "        #model H2 flexible demand resources\n",
    "        EP = h2_flexible_demand(EP, myinputs, mysetup)\n",
    "    end\n",
    "\n",
    "    if mysetup[\"ModelH2Pipelines\"] == 1\n",
    "        # model hydrogen transmission via pipelines\n",
    "        EP = h2_pipeline(EP, myinputs, mysetup)\n",
    "    end\n",
    "\n",
    "    if mysetup[\"ModelH2Trucks\"] == 1\n",
    "        # model hydrogen transmission via trucks\n",
    "        EP = h2_truck(EP, myinputs, mysetup)\n",
    "    end\n",
    "\n",
    "    if mysetup[\"ModelH2G2P\"] == 1\n",
    "        #model H2 Gas to Power\n",
    "        EP = h2_g2p(EP, myinputs, mysetup)\n",
    "    else\n",
    "        # Quick fix to ensure that the H2_G2P variable is defined even if the function is not run\n",
    "        # FIX ME: This needs to be handled better in co2_cap_hsc and co2_cap_power_hsc\n",
    "        @expression(EP, eH2DemandByZoneG2P[z=1:Z, t=1:T], # the unit is tonne/hour\n",
    "            0.0\n",
    "        )\n",
    "    end\n",
    "\n",
    "    EP[:eAdditionalDemandByZone] += EP[:eH2NetpowerConsumptionByAll]\n",
    "end\n",
    "\n",
    "\n",
    "################  Policies #####################3\n",
    "# CO2 emissions limits for the power sector only\n",
    "if mysetup[\"ModelH2\"] ==0\n",
    "    co2_cap!(EP, myinputs, mysetup)\n",
    "elseif mysetup[\"ModelH2\"]==1\n",
    "    EP = co2_cap_power_hsc(EP, myinputs, mysetup)\n",
    "end\n",
    "\n",
    "# Endogenous Retirements\n",
    "if mysetup[\"MultiStage\"] > 0\n",
    "    endogenous_retirement!(EP, myinputs, mysetup)\n",
    "end\n",
    "\n",
    "# Energy Share Requirement\n",
    "if mysetup[\"EnergyShareRequirement\"] >= 1\n",
    "    energy_share_requirement!(EP, myinputs, mysetup)\n",
    "end\n",
    "\n",
    "#Capacity Reserve Margin\n",
    "if mysetup[\"CapacityReserveMargin\"] > 0\n",
    "    cap_reserve_margin!(EP, myinputs, mysetup)\n",
    "end\n",
    "\n",
    "if (mysetup[\"MinCapReq\"] == 1)\n",
    "    minimum_capacity_requirement!(EP, myinputs, mysetup)\n",
    "end\n",
    "\n",
    "if (mysetup[\"MaxCapReq\"] == 1)\n",
    "    EP = maximum_capacity_requirement(EP, myinputs)\n",
    "end\n",
    "\n",
    "\n",
    "## Define the objective function\n",
    "@objective(EP,Min,EP[:eObj])\n",
    "\n",
    "## Power balance constraints\n",
    "# demand = generation + storage discharge - storage charge - demand deferral + deferred demand satisfaction - demand curtailment (NSE)\n",
    "#          + incoming power flows - outgoing power flows - flow losses - charge of heat storage + generation from NACC\n",
    "@constraint(EP, cPowerBalance[t=1:T, z=1:Z], EP[:ePowerBalance][t,z] == myinputs[\"pD\"][t,z])\n",
    "\n",
    "if mysetup[\"ModelH2\"] == 1\n",
    "    ###Hydrogen Balance constraints\n",
    "    @constraint(EP, cH2Balance[t=1:T, z=1:Z], EP[:eH2Balance][t,z] == myinputs[\"H2_D\"][t,z])\n",
    "end\n",
    "\n",
    "if mysetup[\"ModelH2Liquid\"] == 1\n",
    "    ###Hydrogen Liquid Balance constraints\n",
    "    @constraint(EP, cH2LiqBalance[t=1:T, z=1:Z], EP[:eH2LiqBalance][t,z] == myinputs[\"H2_D_L\"][t,z])\n",
    "end\n",
    "\n",
    "## Record pre-solver time\n",
    "presolver_time = time() - presolver_start_time\n",
    "    #### Question - What do we do with this time now that we've split this function into 2?\n",
    "if mysetup[\"PrintModel\"] == 1\n",
    "    if modeloutput === nothing\n",
    "        filepath = joinpath(pwd(), \"YourModel.lp\")\n",
    "        JuMP.write_to_file(EP, filepath)\n",
    "    else\n",
    "        filepath = joinpath(modeloutput, \"YourModel.lp\")\n",
    "        JuMP.write_to_file(EP, filepath)\n",
    "    end\n",
    "    print_and_log(\"Model Printed\")\n",
    "end\n",
    "\n",
    "\n"
   ]
  },
  {
   "cell_type": "code",
   "execution_count": null,
   "id": "857478ab-5720-4f82-94c5-c7dcd6f22889",
   "metadata": {},
   "outputs": [],
   "source": []
  },
  {
   "cell_type": "markdown",
   "id": "4bb8a5bb-fea5-49ab-b6ec-db019c8ec045",
   "metadata": {},
   "source": [
    "# Playing around with expressions"
   ]
  },
  {
   "cell_type": "code",
   "execution_count": null,
   "id": "bda9fb4f-cf79-430c-8965-095f100e9752",
   "metadata": {},
   "outputs": [],
   "source": []
  },
  {
   "cell_type": "code",
   "execution_count": null,
   "id": "9a6289d9-bc17-42e6-9628-99e0471b385e",
   "metadata": {},
   "outputs": [],
   "source": []
  },
  {
   "cell_type": "code",
   "execution_count": null,
   "id": "786a2e32-5c8b-4c5d-a492-731157bb44bf",
   "metadata": {},
   "outputs": [],
   "source": []
  }
 ],
 "metadata": {
  "kernelspec": {
   "display_name": "Julia 1.8.0",
   "language": "julia",
   "name": "julia-1.8"
  },
  "language_info": {
   "file_extension": ".jl",
   "mimetype": "application/julia",
   "name": "julia",
   "version": "1.8.0"
  }
 },
 "nbformat": 4,
 "nbformat_minor": 5
}
