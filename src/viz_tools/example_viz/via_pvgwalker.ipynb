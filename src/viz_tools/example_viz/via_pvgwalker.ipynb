{
 "cells": [
  {
   "cell_type": "code",
   "execution_count": 1,
   "metadata": {},
   "outputs": [
    {
     "name": "stdout",
     "output_type": "stream",
     "text": [
      "Note: you may need to restart the kernel to use updated packages.\n"
     ]
    }
   ],
   "source": [
    "pip install pygwalker -q"
   ]
  },
  {
   "cell_type": "code",
   "execution_count": 2,
   "metadata": {},
   "outputs": [],
   "source": [
    "import pandas as pd\n",
    "import pygwalker as pyg"
   ]
  },
  {
   "cell_type": "code",
   "execution_count": 13,
   "metadata": {},
   "outputs": [
    {
     "name": "stdout",
     "output_type": "stream",
     "text": [
      "   table  zone   res            var           val\n",
      "0   elec     1  wind    elec_cap_mw  1.289681e+04\n",
      "1   elec     2  wind    elec_cap_mw  8.764614e+04\n",
      "2   elec     3  wind    elec_cap_mw  6.058010e+04\n",
      "3   elec     4  wind    elec_cap_mw  1.158975e+04\n",
      "4   elec     5  wind    elec_cap_mw  1.591851e+05\n",
      "..   ...   ...   ...            ...           ...\n",
      "75    h2     6   smr  h2_gen_mtonne  1.512962e-01\n",
      "76    h2     7   smr  h2_gen_mtonne  2.437269e+06\n",
      "77    h2     8   smr  h2_gen_mtonne  2.606520e+01\n",
      "78    h2     9   smr  h2_gen_mtonne  2.427025e+05\n",
      "79    h2    10   smr  h2_gen_mtonne  2.754080e+05\n",
      "\n",
      "[80 rows x 5 columns]\n"
     ]
    }
   ],
   "source": [
    "merged_table = pd.read_csv('eg_long_results_df.csv')\n",
    "print(merged_table)"
   ]
  },
  {
   "cell_type": "code",
   "execution_count": 17,
   "metadata": {},
   "outputs": [
    {
     "name": "stdout",
     "output_type": "stream",
     "text": [
      "var table  zone           res    elec_cap_mw  elec_gen_mwh  h2_cap_mtonne_hr  \\\n",
      "0    elec     1         solar    4788.000037  3.300556e+06               NaN   \n",
      "1    elec     1          wind   12896.812570  2.703045e+07               NaN   \n",
      "2    elec     2         solar   53302.000520  3.742027e+07               NaN   \n",
      "3    elec     2          wind   87646.136970  1.472311e+08               NaN   \n",
      "4    elec     3         solar     562.922161  3.864755e+05               NaN   \n",
      "5    elec     3          wind   60580.104620  1.638230e+08               NaN   \n",
      "6    elec     4         solar       0.000000  0.000000e+00               NaN   \n",
      "7    elec     4          wind   11589.746460  3.728960e+07               NaN   \n",
      "8    elec     5         solar   76207.388000  6.572421e+07               NaN   \n",
      "9    elec     5          wind  159185.105300  2.773696e+08               NaN   \n",
      "10   elec     6         solar     322.754065  1.726827e+05               NaN   \n",
      "11   elec     6          wind   21495.410780  4.160472e+07               NaN   \n",
      "12   elec     7         solar   13147.246130  7.802481e+06               NaN   \n",
      "13   elec     7          wind  215881.055200  5.165586e+08               NaN   \n",
      "14   elec     8         solar    7900.000016  5.147175e+06               NaN   \n",
      "15   elec     8          wind   46234.370830  1.188335e+08               NaN   \n",
      "16   elec     9         solar       0.000338  1.513503e-01               NaN   \n",
      "17   elec     9          wind    3068.000014  3.776098e+06               NaN   \n",
      "18   elec    10         solar       0.000735  4.725846e-01               NaN   \n",
      "19   elec    10          wind   40407.941560  6.838922e+07               NaN   \n",
      "20     h2     1  electrolyzer            NaN           NaN         65.450947   \n",
      "21     h2     1           smr            NaN           NaN         38.523629   \n",
      "22     h2     2  electrolyzer            NaN           NaN          0.000452   \n",
      "23     h2     2           smr            NaN           NaN        569.311317   \n",
      "24     h2     3  electrolyzer            NaN           NaN        351.961116   \n",
      "25     h2     3           smr            NaN           NaN        409.134203   \n",
      "26     h2     4  electrolyzer            NaN           NaN          0.000034   \n",
      "27     h2     4           smr            NaN           NaN          3.895064   \n",
      "28     h2     5  electrolyzer            NaN           NaN         59.853573   \n",
      "29     h2     5           smr            NaN           NaN         95.765874   \n",
      "30     h2     6  electrolyzer            NaN           NaN         14.368934   \n",
      "31     h2     6           smr            NaN           NaN          0.000024   \n",
      "32     h2     7  electrolyzer            NaN           NaN        244.544836   \n",
      "33     h2     7           smr            NaN           NaN        375.031710   \n",
      "34     h2     8  electrolyzer            NaN           NaN          0.000047   \n",
      "35     h2     8           smr            NaN           NaN          0.003907   \n",
      "36     h2     9  electrolyzer            NaN           NaN         22.071447   \n",
      "37     h2     9           smr            NaN           NaN         35.314434   \n",
      "38     h2    10  electrolyzer            NaN           NaN         25.494344   \n",
      "39     h2    10           smr            NaN           NaN         40.790954   \n",
      "\n",
      "var  h2_gen_mtonne  \n",
      "0              NaN  \n",
      "1              NaN  \n",
      "2              NaN  \n",
      "3              NaN  \n",
      "4              NaN  \n",
      "5              NaN  \n",
      "6              NaN  \n",
      "7              NaN  \n",
      "8              NaN  \n",
      "9              NaN  \n",
      "10             NaN  \n",
      "11             NaN  \n",
      "12             NaN  \n",
      "13             NaN  \n",
      "14             NaN  \n",
      "15             NaN  \n",
      "16             NaN  \n",
      "17             NaN  \n",
      "18             NaN  \n",
      "19             NaN  \n",
      "20    2.907999e+05  \n",
      "21    2.513672e+05  \n",
      "22    1.757326e+00  \n",
      "23    4.626239e+06  \n",
      "24    1.750000e+06  \n",
      "25    2.674016e+06  \n",
      "26    1.441157e-01  \n",
      "27    2.483494e+04  \n",
      "28    2.654888e+05  \n",
      "29    6.782832e+05  \n",
      "30    8.154971e+04  \n",
      "31    1.512962e-01  \n",
      "32    1.290000e+06  \n",
      "33    2.437269e+06  \n",
      "34    2.061339e-01  \n",
      "35    2.606520e+01  \n",
      "36    1.053209e+05  \n",
      "37    2.427025e+05  \n",
      "38    1.265868e+05  \n",
      "39    2.754080e+05  \n"
     ]
    }
   ],
   "source": [
    "merged_table_pivot = merged_table.pivot(index = ['table', 'zone', 'res'], columns = 'var', values = 'val')\n",
    "\n",
    "#print(merged_table_pivot)\n",
    "merged_table_pivot = merged_table_pivot.reset_index()\n",
    "\n",
    "print(merged_table_pivot)"
   ]
  },
  {
   "cell_type": "code",
   "execution_count": 18,
   "metadata": {},
   "outputs": [
    {
     "data": {
      "text/html": [],
      "text/plain": [
       "<IPython.core.display.HTML object>"
      ]
     },
     "metadata": {},
     "output_type": "display_data"
    },
    {
     "data": {
      "application/vnd.jupyter.widget-view+json": {
       "model_id": "e8d2a653f04949c89d1c692fd82ccb59",
       "version_major": 2,
       "version_minor": 0
      },
      "text/plain": [
       "Box(children=(HTML(value='<div id=\"ifr-pyg-4\" style=\"height: auto\">\\n    <head>\\n        <meta http-equiv=\"Con…"
      ]
     },
     "metadata": {},
     "output_type": "display_data"
    },
    {
     "data": {
      "text/html": [
       "<html>\n",
       "<style>\n",
       ".tabs{\n",
       "    position:relative;\n",
       "    height:660px;\n",
       "}\n",
       ".tab-pane{\n",
       "    display:inline-block;\n",
       "}\n",
       ".tabs input[type='radio']{\n",
       "    position:absolute;\n",
       "    clip:rect(0,0,0,0)\n",
       "}\n",
       ".tab-item{\n",
       "    display:block;\n",
       "    height:34px;\n",
       "    line-height:34px;\n",
       "    cursor:pointer;\n",
       "    padding:0 10px\n",
       "}\n",
       "\n",
       ".tabs input[type='radio']:checked+.tab-item{\n",
       "    background:#2563eb;\n",
       "    color:#fff\n",
       "}\n",
       "\n",
       ".tab-content{\n",
       "    display: none;\n",
       "    position:absolute;\n",
       "    left:0;\n",
       "    top:56px;\n",
       "    bottom:0;\n",
       "    right:0;\n",
       "}\n",
       "\n",
       ".tabs input[type='radio']:checked+.tab-item+.tab-content{\n",
       "    display: block;\n",
       "}\n",
       "</style>\n",
       "\n",
       "<body>\n",
       "    <div id=\"pygwalker-preview-4\">\n",
       "        <div class=\"tabs\">\n",
       "            \n",
       "        </div>\n",
       "    </div>\n",
       "</body>\n",
       "</html>"
      ],
      "text/plain": [
       "<IPython.core.display.HTML object>"
      ]
     },
     "metadata": {},
     "output_type": "display_data"
    }
   ],
   "source": [
    "walker = pyg.walk(merged_table_pivot)"
   ]
  }
 ],
 "metadata": {
  "kernelspec": {
   "display_name": "indiaproject",
   "language": "python",
   "name": "python3"
  },
  "language_info": {
   "codemirror_mode": {
    "name": "ipython",
    "version": 3
   },
   "file_extension": ".py",
   "mimetype": "text/x-python",
   "name": "python",
   "nbconvert_exporter": "python",
   "pygments_lexer": "ipython3",
   "version": "3.9.16"
  },
  "orig_nbformat": 4,
  "vscode": {
   "interpreter": {
    "hash": "1667f2de5235e51d0584d41c6c9be1e91199a6373f7070ffca751ff16ca0edf0"
   }
  }
 },
 "nbformat": 4,
 "nbformat_minor": 2
}
